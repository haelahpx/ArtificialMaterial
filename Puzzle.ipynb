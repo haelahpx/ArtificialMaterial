{
 "cells": [
  {
   "cell_type": "markdown",
   "metadata": {},
   "source": [
    "This code is designed to solve a sliding puzzle using a smart method called the A Search Algorithm. Imagine a 3x3 grid of tiles with numbers from 1 to 8, and one empty space (represented by 'e'). The goal of the puzzle is to slide the numbered tiles around, using the empty space, to arrange them in a specific order.\n",
    "1. - Initial State: The puzzle starts in a jumbled position (like the one above).\n",
    "   - Goal State: The puzzle ends when the numbers are arranged in the correct order, with the empty space at the bottom right.\n",
    "2. The program checks which tiles can be moved into the empty space ('e') based on its position.\n",
    "3. When a tile is moved into the empty space, the program updates the puzzle to reflect the new position of the tiles.\n",
    "4. After each move, the program checks if the puzzle matches the goal state.\n",
    "5. The program uses a smart way of estimating how far away the current puzzle is from the solution. This estimate helps guide the algorithm to make better moves and solve the puzzle faster.\n",
    "6. The code uses a search method called A* to find the shortest and most efficient way to solve the puzzle. It tries different moves, guided by the heuristic, until it finds the solution."
   ]
  },
  {
   "cell_type": "code",
   "execution_count": null,
   "metadata": {},
   "outputs": [],
   "source": [
    "from simpleai.search import astar, SearchProblem\n",
    "\n",
    "# Class containing methods to solve the puzzle\n",
    "class PuzzleSolver(SearchProblem):\n",
    "    # Action method to get the list of the possible \n",
    "    # numbers that can be moved in to the empty space \n",
    "    def actions(self, cur_state):\n",
    "       pass\n",
    "\n",
    "    # Return the resulting state after moving a piece to the empty space\n",
    "    def result(self, state, action):\n",
    "        pass\n",
    "\n",
    "    # Returns true if a state is the goal state\n",
    "    def is_goal(self, state):\n",
    "        pass\n",
    "\n",
    "    # Returns an estimate of the distance from a state to \n",
    "    # the goal using the Manhattan distance heuristic\n",
    "    def heuristic(self, state):\n",
    "        pass\n",
    "\n",
    "# Convert list to string\n",
    "def list_to_string(input_list):\n",
    "    pass\n",
    "\n",
    "# Convert string to list\n",
    "def string_to_list(input_string):\n",
    "    pass\n",
    "\n",
    "# Find the 2D location of the input element \n",
    "def get_location(rows, input_element):\n",
    "    pass\n",
    "\n",
    "# Final result that we want to achieve\n",
    "GOAL = '''1-2-3\n",
    "4-5-6\n",
    "7-8-e'''\n",
    "\n",
    "# Starting point\n",
    "INITIAL = '''1-e-2\n",
    "6-3-4\n",
    "7-5-8'''\n",
    "\n",
    "# Create a cache for the goal position of each piece\n",
    "goal_positions = {}\n",
    "rows_goal = string_to_list(GOAL)\n",
    "for number in '12345678e':\n",
    "    goal_positions[number] = get_location(rows_goal, number)\n",
    "\n",
    "# Create the solver object\n",
    "result = astar(PuzzleSolver(INITIAL))\n",
    "\n",
    "# Print the results\n",
    "for i, (action, state) in enumerate(result.path()):\n",
    "    print()\n",
    "    pass\n",
    "\n",
    "\n",
    "    print(state)"
   ]
  }
 ],
 "metadata": {
  "kernelspec": {
   "display_name": "Python 3",
   "language": "python",
   "name": "python3"
  },
  "language_info": {
   "codemirror_mode": {
    "name": "ipython",
    "version": 3
   },
   "file_extension": ".py",
   "mimetype": "text/x-python",
   "name": "python",
   "nbconvert_exporter": "python",
   "pygments_lexer": "ipython3",
   "version": "3.8.0"
  }
 },
 "nbformat": 4,
 "nbformat_minor": 2
}
