{
 "cells": [
  {
   "cell_type": "markdown",
   "metadata": {},
   "source": [
    "This code is solving a problem where we need to color a map of people in such a way that no two neighbors have the same color. It's like making sure everyone sitting next to each other in a classroom wears a different color shirt.\n",
    "Condition:\n",
    "1. Each of these people needs to be assigned a color, but we have to make sure no two people who are \"neighbors\" (connected by constraints) have the same color.\n",
    "2. Each person can wear one of four colors: 'red', 'green', 'blue', or 'gray'. The code assigns these colors to each person: \n",
    "colors = dict((name, ['red', 'green', 'blue', 'gray']) for name in names)\n",
    "This just means that each person has four possible color choices.\n",
    "3. The rules make sure that no two neighbors have the same color. Neighbors are pairs of people like \"Mark and Julia\" or \"Steve and Amanda\". We don’t want them to have the same color.\n",
    "4. The program uses something called backtracking to solve the problem. Backtracking is a fancy way to try different combinations of colors until it finds one that works.\n",
    "5. The backtrack function will:\n",
    "- Assign a color to each person, one by one.\n",
    "- Check the rules (constraints) to make sure neighbors don’t end up with the same color.\n",
    "- If it hits a problem (like two neighbors having the same color), it goes back and tries a different color."
   ]
  },
  {
   "cell_type": "code",
   "execution_count": 1,
   "metadata": {},
   "outputs": [
    {
     "name": "stdout",
     "output_type": "stream",
     "text": [
      "\n",
      "Color mapping:\n",
      "\n",
      "Mark ==> red\n",
      "Julia ==> green\n",
      "Steve ==> blue\n",
      "Amanda ==> red\n",
      "Brian ==> red\n",
      "Joanne ==> green\n",
      "Derek ==> blue\n",
      "Allan ==> red\n",
      "Michelle ==> gray\n",
      "Kelly ==> gray\n"
     ]
    }
   ],
   "source": [
    "from simpleai.search import CspProblem, backtrack\n",
    "\n",
    "# Define the function that imposes the constraint \n",
    "# that neighbors should be different\n",
    "# values [0] means the first person, values[1] is the second person\n",
    "def constraint_func(names, values):\n",
    "    return values[0] != values[1]\n",
    "\n",
    "# Specify the variables (people)\n",
    "names = ('Mark', 'Julia', 'Steve', 'Amanda', 'Brian', \n",
    "        'Joanne', 'Derek', 'Allan', 'Michelle', 'Kelly')\n",
    "\n",
    "# Define the possible colors \n",
    "colors = dict((name, ['red', 'green', 'blue', 'gray']) for name in names)\n",
    "\n",
    "# Define the constraints \n",
    "constraints = [\n",
    "    (('Mark', 'Julia'), constraint_func),\n",
    "    (('Mark', 'Steve'), constraint_func),\n",
    "    (('Julia', 'Steve'), constraint_func),\n",
    "    (('Julia', 'Amanda'), constraint_func),\n",
    "    (('Julia', 'Derek'), constraint_func),\n",
    "    (('Julia', 'Brian'), constraint_func),\n",
    "    (('Steve', 'Amanda'), constraint_func),\n",
    "    (('Steve', 'Allan'), constraint_func),\n",
    "    (('Steve', 'Michelle'), constraint_func),\n",
    "    (('Amanda', 'Michelle'), constraint_func),\n",
    "    (('Amanda', 'Joanne'), constraint_func),\n",
    "    (('Amanda', 'Derek'), constraint_func),\n",
    "    (('Brian', 'Derek'), constraint_func),\n",
    "    (('Brian', 'Kelly'), constraint_func),\n",
    "    (('Joanne', 'Michelle'), constraint_func),\n",
    "    (('Joanne', 'Amanda'), constraint_func),\n",
    "    (('Joanne', 'Derek'), constraint_func),\n",
    "    (('Joanne', 'Kelly'), constraint_func),\n",
    "    (('Derek', 'Kelly'), constraint_func),\n",
    "]\n",
    "\n",
    "# Solve the problem\n",
    "problem = CspProblem(names, colors, constraints)\n",
    "\n",
    "# Get the solution using backtracking algorithm\n",
    "output = backtrack(problem)\n",
    "\n",
    "# Print the solution\n",
    "print('\\nColor mapping:\\n')\n",
    "for name, color in output.items():\n",
    "    print(name, '==>', color)"
   ]
  }
 ],
 "metadata": {
  "kernelspec": {
   "display_name": "Python 3",
   "language": "python",
   "name": "python3"
  },
  "language_info": {
   "codemirror_mode": {
    "name": "ipython",
    "version": 3
   },
   "file_extension": ".py",
   "mimetype": "text/x-python",
   "name": "python",
   "nbconvert_exporter": "python",
   "pygments_lexer": "ipython3",
   "version": "3.12.6"
  }
 },
 "nbformat": 4,
 "nbformat_minor": 2
}
